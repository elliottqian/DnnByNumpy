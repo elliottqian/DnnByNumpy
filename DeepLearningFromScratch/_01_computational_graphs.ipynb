{
 "cells": [
  {
   "cell_type": "code",
   "execution_count": 32,
   "metadata": {
    "collapsed": true
   },
   "outputs": [],
   "source": [
    "import numpy as np"
   ]
  },
  {
   "cell_type": "code",
   "execution_count": 33,
   "metadata": {},
   "outputs": [],
   "source": [
    "class Graph:\n",
    "    \"\"\"Represents a computational graph\n",
    "    \"\"\"\n",
    "\n",
    "    def __init__(self):\n",
    "        \"\"\"Construct Graph\"\"\"\n",
    "        self.operations = []\n",
    "        self.placeholders = []\n",
    "        self.variables = []\n",
    "\n",
    "    def as_default(self):\n",
    "        global _default_graph\n",
    "        _default_graph = self"
   ]
  },
  {
   "cell_type": "code",
   "execution_count": 34,
   "metadata": {},
   "outputs": [],
   "source": [
    "class Operation:\n",
    "    \"\"\"Represents a graph node that performs a computation.\n",
    "\n",
    "    An `Operation` is a node in a `Graph` that takes zero or\n",
    "    more objects as input, and produces zero or more objects\n",
    "    as output.\n",
    "    \"\"\"\n",
    "\n",
    "    def __init__(self, input_nodes=[]):\n",
    "        \"\"\"Construct Operation\n",
    "        \"\"\"\n",
    "        self.input_nodes = input_nodes\n",
    "        self.output = None\n",
    "\n",
    "        # Initialize list of consumers (i.e. nodes that receive this operation's output as input)\n",
    "        self.consumers = []\n",
    "\n",
    "        # Append this operation to the list of consumers of all input nodes\n",
    "        for input_node in input_nodes:\n",
    "            input_node.consumers.append(self)\n",
    "\n",
    "        # Append this operation to the list of operations in the currently active default graph\n",
    "        _default_graph.operations.append(self)\n",
    "\n",
    "    def compute(self, *args):\n",
    "        \"\"\"Computes the output of this operation.\n",
    "        \"\" Must be implemented by the particular operation.\n",
    "        \"\"\"\n",
    "        pass\n",
    "    \n",
    "    def __str__(self):\n",
    "        return \"Hello world\""
   ]
  },
  {
   "cell_type": "code",
   "execution_count": 35,
   "metadata": {},
   "outputs": [],
   "source": [
    "class add(Operation):\n",
    "    \"\"\"Returns x + y element-wise.\n",
    "    \"\"\"\n",
    "\n",
    "    def __init__(self, x, y):\n",
    "        \"\"\"Construct add\n",
    "\n",
    "        Args:\n",
    "          x: First summand node\n",
    "          y: Second summand node\n",
    "        \"\"\"\n",
    "        super().__init__([x, y])\n",
    "\n",
    "    def compute(self, x_value, y_value):\n",
    "        \"\"\"Compute the output of the add operation\n",
    "\n",
    "        Args:\n",
    "          x_value: First summand value\n",
    "          y_value: Second summand value\n",
    "        \"\"\"\n",
    "        return x_value + y_value"
   ]
  },
  {
   "cell_type": "code",
   "execution_count": 36,
   "metadata": {},
   "outputs": [],
   "source": [
    "class matmul(Operation):\n",
    "    \"\"\"Multiplies matrix a by matrix b, producing a * b.\n",
    "    \"\"\"\n",
    "\n",
    "    def __init__(self, a, b):\n",
    "        \"\"\"Construct matmul\n",
    "\n",
    "        Args:\n",
    "          a: First matrix\n",
    "          b: Second matrix\n",
    "        \"\"\"\n",
    "        super().__init__([a, b])\n",
    "\n",
    "    def compute(self, a_value, b_value):\n",
    "        \"\"\"Compute the output of the matmul operation\n",
    "\n",
    "        Args:\n",
    "          a_value: First matrix value\n",
    "          b_value: Second matrix value\n",
    "        \"\"\"\n",
    "        return a_value.dot(b_value)"
   ]
  },
  {
   "cell_type": "code",
   "execution_count": 37,
   "metadata": {},
   "outputs": [],
   "source": [
    "class placeholder:\n",
    "    \"\"\"Represents a placeholder node that has to be provided with a value\n",
    "       when computing the output of a computational graph\n",
    "    \"\"\"\n",
    "\n",
    "    def __init__(self):\n",
    "        \"\"\"Construct placeholder\n",
    "        \"\"\"\n",
    "        self.consumers = []\n",
    "\n",
    "        # Append this placeholder to the list of placeholders in the currently active default graph\n",
    "        _default_graph.placeholders.append(self)"
   ]
  },
  {
   "cell_type": "code",
   "execution_count": 38,
   "metadata": {},
   "outputs": [],
   "source": [
    "class Variable:\n",
    "    \"\"\"Represents a variable (i.e. an intrinsic, changeable parameter of a computational graph).\n",
    "    \"\"\"\n",
    "\n",
    "    def __init__(self, initial_value=None):\n",
    "        \"\"\"Construct Variable\n",
    "\n",
    "        Args:\n",
    "          initial_value: The initial value of this variable\n",
    "        \"\"\"\n",
    "        self.value = initial_value\n",
    "        self.consumers = []\n",
    "\n",
    "        # Append this variable to the list of variables in the currently active default graph\n",
    "        _default_graph.variables.append(self)"
   ]
  },
  {
   "cell_type": "code",
   "execution_count": 39,
   "metadata": {},
   "outputs": [],
   "source": [
    "# Create a new graph\n",
    "Graph().as_default()\n",
    "\n",
    "# Create variables\n",
    "A = Variable([[1, 0], [0, -1]])\n",
    "b = Variable([1, 1])\n",
    "\n",
    "# Create placeholder\n",
    "x = placeholder()\n",
    "\n",
    "# Create hidden node y\n",
    "y = matmul(A, x)\n",
    "\n",
    "# Create output node z\n",
    "z = add(y, b)"
   ]
  },
  {
   "cell_type": "code",
   "execution_count": 40,
   "metadata": {},
   "outputs": [
    {
     "data": {
      "text/plain": [
       "[<__main__.add at 0x1e0da1966a0>]"
      ]
     },
     "execution_count": 40,
     "metadata": {},
     "output_type": "execute_result"
    }
   ],
   "source": [
    "A.consumers[0].consumers"
   ]
  },
  {
   "cell_type": "code",
   "execution_count": 41,
   "metadata": {},
   "outputs": [
    {
     "data": {
      "text/plain": [
       "[<__main__.matmul at 0x1e0da196780>, <__main__.add at 0x1e0da1966a0>]"
      ]
     },
     "execution_count": 41,
     "metadata": {},
     "output_type": "execute_result"
    }
   ],
   "source": [
    "_default_graph.operations"
   ]
  },
  {
   "cell_type": "code",
   "execution_count": 42,
   "metadata": {},
   "outputs": [],
   "source": [
    "class Session:\n",
    "    \"\"\"Represents a particular execution of a computational graph.\n",
    "    \"\"\"\n",
    "\n",
    "    def run(self, operation, feed_dict={}):\n",
    "        \"\"\"Computes the output of an operation\n",
    "\n",
    "        Args:\n",
    "          operation: The operation whose output we'd like to compute.\n",
    "          feed_dict: A dictionary that maps placeholders to values for this session\n",
    "        \"\"\"\n",
    "\n",
    "        # Perform a post-order traversal of the graph to bring the nodes into the right order\n",
    "        nodes_post_order = traverse_post_order(operation)\n",
    "\n",
    "        # Iterate all nodes to determine their value\n",
    "        for node in nodes_post_order:\n",
    "\n",
    "            if type(node) == placeholder:\n",
    "                # Set the node value to the placeholder value from feed_dict\n",
    "                node.output = feed_dict[node]\n",
    "            elif type(node) == Variable:\n",
    "                # Set the node value to the variable's value attribute\n",
    "                node.output = node.value\n",
    "            else:  # Operation\n",
    "                # Get the input values for this operation from node_values\n",
    "                node.inputs = [input_node.output for input_node in node.input_nodes]\n",
    "\n",
    "                # Compute the output of this operation\n",
    "                node.output = node.compute(*node.inputs)\n",
    "\n",
    "            # Convert lists to numpy arrays\n",
    "            if type(node.output) == list:\n",
    "                node.output = np.array(node.output)\n",
    "\n",
    "        # Return the requested node value\n",
    "        return operation.output\n",
    "\n",
    "\n",
    "def traverse_post_order(operation):\n",
    "    \"\"\"\n",
    "    后续遍历\n",
    "    Performs a post-order traversal, returning a list of nodes\n",
    "    in the order in which they have to be computed\n",
    "\n",
    "    Args:\n",
    "       operation: The operation to start traversal at\n",
    "    \"\"\"\n",
    "\n",
    "    nodes_postorder = []\n",
    "\n",
    "    def recurse(node):\n",
    "        if isinstance(node, Operation):\n",
    "            for input_node in node.input_nodes:\n",
    "                recurse(input_node)\n",
    "        nodes_postorder.append(node)\n",
    "\n",
    "    recurse(operation)\n",
    "    return nodes_postorder"
   ]
  },
  {
   "cell_type": "code",
   "execution_count": 43,
   "metadata": {},
   "outputs": [
    {
     "name": "stdout",
     "output_type": "stream",
     "text": [
      "[ 2 -1]\n"
     ]
    }
   ],
   "source": [
    "session = Session()\n",
    "output = session.run(z, {\n",
    "    x: [1, 2]\n",
    "})\n",
    "print(output)"
   ]
  },
  {
   "cell_type": "code",
   "execution_count": 44,
   "metadata": {},
   "outputs": [
    {
     "data": {
      "text/plain": [
       "[<__main__.Variable at 0x1e0da196048>,\n <__main__.placeholder at 0x1e0da1967f0>,\n <__main__.matmul at 0x1e0da196780>,\n <__main__.Variable at 0x1e0da196b70>,\n <__main__.add at 0x1e0da1966a0>]"
      ]
     },
     "execution_count": 44,
     "metadata": {},
     "output_type": "execute_result"
    }
   ],
   "source": [
    "traverse_post_order(z)"
   ]
  },
  {
   "cell_type": "code",
   "execution_count": 45,
   "metadata": {},
   "outputs": [
    {
     "data": {
      "text/plain": [
       "array([ 2, -1])"
      ]
     },
     "execution_count": 45,
     "metadata": {},
     "output_type": "execute_result"
    }
   ],
   "source": [
    "z.output"
   ]
  },
  {
   "cell_type": "code",
   "execution_count": 46,
   "metadata": {},
   "outputs": [],
   "source": [
    "C = Variable([[1, 0], [0, -1]])"
   ]
  },
  {
   "cell_type": "code",
   "execution_count": 48,
   "metadata": {},
   "outputs": [],
   "source": [
    ""
   ]
  },
  {
   "cell_type": "code",
   "execution_count": 49,
   "metadata": {},
   "outputs": [
    {
     "data": {
      "text/plain": [
       "1"
      ]
     },
     "execution_count": 49,
     "metadata": {},
     "output_type": "execute_result"
    }
   ],
   "source": [
    ""
   ]
  },
  {
   "cell_type": "code",
   "execution_count": null,
   "metadata": {},
   "outputs": [],
   "source": []
  }
 ],
 "metadata": {
  "kernelspec": {
   "display_name": "Python 2",
   "language": "python",
   "name": "python2"
  },
  "language_info": {
   "codemirror_mode": {
    "name": "ipython",
    "version": 2
   },
   "file_extension": ".py",
   "mimetype": "text/x-python",
   "name": "python",
   "nbconvert_exporter": "python",
   "pygments_lexer": "ipython2",
   "version": "2.7.6"
  }
 },
 "nbformat": 4,
 "nbformat_minor": 0
}
